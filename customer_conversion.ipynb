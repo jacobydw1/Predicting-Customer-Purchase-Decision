{
 "cells": [
  {
   "cell_type": "markdown",
   "metadata": {},
   "source": [
    "## Data Columns Descriptions\n",
    "* user_id - The unique id assigned to the user.\n",
    "* installation_at - The UTC time that the user installed the app.\n",
    "* request_created_at - The time at which the user first submitted a quote request. If null, a customer never submitted a quote request.\n",
    "* agent_responded_to_customer_at - The time which our sales agent picked up the account and began interacting with the customer. If null, the agent never responded to the customer (this is generally because they’ve indicated they’re not interested in the insurance policy).\n",
    "* customer_sold_at - The time which sales sold the account an insurance policy. If null, the customer was not sold."
   ]
  },
  {
   "cell_type": "markdown",
   "metadata": {},
   "source": [
    "## Problem\n",
    "\n",
    ">We’re trying to decide when we should / should not spend on paid marketing to acquire customers. For example, should we be spending the wee hours of the morning, or on weekends? For this, please use the dataset to determine how conversion is subject to the day of week and time of day that a customer installed the app. You can assume that the cost to install on particular times of day and days per week is constant. Please make a recommendation for if we should only spend on particular days/time, or if not, why not?"
   ]
  },
  {
   "cell_type": "code",
   "execution_count": 1,
   "metadata": {},
   "outputs": [],
   "source": [
    "import numpy as np\n",
    "import pandas as pd\n",
    "import sklearn\n",
    "import seaborn as sns\n",
    "import matplotlib.pyplot as plt"
   ]
  },
  {
   "cell_type": "code",
   "execution_count": 2,
   "metadata": {},
   "outputs": [
    {
     "data": {
      "text/html": [
       "<div>\n",
       "<style scoped>\n",
       "    .dataframe tbody tr th:only-of-type {\n",
       "        vertical-align: middle;\n",
       "    }\n",
       "\n",
       "    .dataframe tbody tr th {\n",
       "        vertical-align: top;\n",
       "    }\n",
       "\n",
       "    .dataframe thead th {\n",
       "        text-align: right;\n",
       "    }\n",
       "</style>\n",
       "<table border=\"1\" class=\"dataframe\">\n",
       "  <thead>\n",
       "    <tr style=\"text-align: right;\">\n",
       "      <th></th>\n",
       "      <th>user_id</th>\n",
       "      <th>installation_at</th>\n",
       "      <th>request_created_at</th>\n",
       "      <th>agent_responded_to_customer_at</th>\n",
       "      <th>customer_sold_at</th>\n",
       "    </tr>\n",
       "  </thead>\n",
       "  <tbody>\n",
       "    <tr>\n",
       "      <th>0</th>\n",
       "      <td>197393</td>\n",
       "      <td>2019-10-09 23:58</td>\n",
       "      <td>2019-10-10 0:03</td>\n",
       "      <td>2019-10-10 18:16</td>\n",
       "      <td>NaN</td>\n",
       "    </tr>\n",
       "    <tr>\n",
       "      <th>1</th>\n",
       "      <td>197392</td>\n",
       "      <td>2019-10-09 23:57</td>\n",
       "      <td>2019-10-10 0:04</td>\n",
       "      <td>NaN</td>\n",
       "      <td>NaN</td>\n",
       "    </tr>\n",
       "    <tr>\n",
       "      <th>2</th>\n",
       "      <td>197391</td>\n",
       "      <td>2019-10-09 23:56</td>\n",
       "      <td>NaN</td>\n",
       "      <td>NaN</td>\n",
       "      <td>NaN</td>\n",
       "    </tr>\n",
       "    <tr>\n",
       "      <th>3</th>\n",
       "      <td>197390</td>\n",
       "      <td>2019-10-09 23:56</td>\n",
       "      <td>2019-10-10 0:11</td>\n",
       "      <td>2019-10-10 0:26</td>\n",
       "      <td>NaN</td>\n",
       "    </tr>\n",
       "    <tr>\n",
       "      <th>4</th>\n",
       "      <td>197389</td>\n",
       "      <td>2019-10-09 23:56</td>\n",
       "      <td>2019-10-09 23:59</td>\n",
       "      <td>2019-10-10 23:09</td>\n",
       "      <td>NaN</td>\n",
       "    </tr>\n",
       "  </tbody>\n",
       "</table>\n",
       "</div>"
      ],
      "text/plain": [
       "   user_id   installation_at request_created_at  \\\n",
       "0   197393  2019-10-09 23:58    2019-10-10 0:03   \n",
       "1   197392  2019-10-09 23:57    2019-10-10 0:04   \n",
       "2   197391  2019-10-09 23:56                NaN   \n",
       "3   197390  2019-10-09 23:56    2019-10-10 0:11   \n",
       "4   197389  2019-10-09 23:56   2019-10-09 23:59   \n",
       "\n",
       "  agent_responded_to_customer_at customer_sold_at  \n",
       "0               2019-10-10 18:16              NaN  \n",
       "1                            NaN              NaN  \n",
       "2                            NaN              NaN  \n",
       "3                2019-10-10 0:26              NaN  \n",
       "4               2019-10-10 23:09              NaN  "
      ]
     },
     "execution_count": 2,
     "metadata": {},
     "output_type": "execute_result"
    }
   ],
   "source": [
    "df = pd.read_csv(\"cover_test_dataset.csv\", \n",
    "                 parse_dates=True)\n",
    "df.head()"
   ]
  },
  {
   "cell_type": "code",
   "execution_count": 3,
   "metadata": {},
   "outputs": [
    {
     "name": "stdout",
     "output_type": "stream",
     "text": [
      "<class 'pandas.core.frame.DataFrame'>\n",
      "RangeIndex: 132296 entries, 0 to 132295\n",
      "Data columns (total 5 columns):\n",
      " #   Column                          Non-Null Count   Dtype \n",
      "---  ------                          --------------   ----- \n",
      " 0   user_id                         132296 non-null  int64 \n",
      " 1   installation_at                 132290 non-null  object\n",
      " 2   request_created_at              99058 non-null   object\n",
      " 3   agent_responded_to_customer_at  74394 non-null   object\n",
      " 4   customer_sold_at                5741 non-null    object\n",
      "dtypes: int64(1), object(4)\n",
      "memory usage: 5.0+ MB\n"
     ]
    }
   ],
   "source": [
    "df.info()"
   ]
  },
  {
   "cell_type": "code",
   "execution_count": 4,
   "metadata": {},
   "outputs": [],
   "source": [
    "\n",
    "# # Add datetime parameters for saledate\n",
    "# df[\"installYear\"] = df.installation_at.dt.year\n",
    "# df[\"installMonth\"] = df.installation_at.dt.month\n",
    "# df[\"installDay\"] = df.installation_at.dt.day\n",
    "# df[\"installDayofweek\"] = df.installation_at.dt.dayofweek\n",
    "# df[\"installDayofyear\"] = df.installation_at.dt.dayofyear\n",
    "# df[\"installTime\"] = df.installation_at.dt.time\n",
    "\n",
    "\n",
    "# df[\"requestYear\"] = df.request_created_at.dt.year\n",
    "# df[\"requestMonth\"] = df.request_created_at.dt.month\n",
    "# df[\"requestDay\"] = df.request_created_at.dt.day\n",
    "# df[\"requestDayofweek\"] = df.request_created_at.dt.dayofweek\n",
    "# df[\"requestDayofyear\"] = df.request_created_at.dt.dayofyear\n",
    "# df[\"requestDayofyear\"] = df.request_created_at.dt.dayofyear\n",
    "# df[\"requestTime\"] = df.request_created_at.dt.time\n",
    "\n",
    "# df[\"agentresponseYear\"] = df.agent_responded_to_customer_at.dt.year\n",
    "# df[\"agentresponseMonth\"] = df.agent_responded_to_customer_at.dt.month\n",
    "# df[\"agentresponseDay\"] = df.agent_responded_to_customer_at.dt.day\n",
    "# df[\"agentresponseDayofweek\"] = df.agent_responded_to_customer_at.dt.dayofweek\n",
    "# df[\"agentresponseDayofyear\"] = df.agent_responded_to_customer_at.dt.dayofyear\n",
    "# df[\"agentresponseTime\"] = df.agent_responded_to_customer_at.dt.time\n",
    "\n",
    "# df[\"customersoldYear\"] = df.customer_sold_at.dt.year\n",
    "# df[\"customersoldMonth\"] = df.customer_sold_at.dt.month\n",
    "# df[\"customersoldDay\"] = df.customer_sold_at.dt.day\n",
    "# df[\"customersoldDayofweek\"] = df.customer_sold_at.dt.dayofweek\n",
    "# df[\"customersoldDayofyear\"] = df.customer_sold_at.dt.dayofyear\n",
    "# df[\"customersoldTime\"] = df.customer_sold_at.dt.time"
   ]
  },
  {
   "cell_type": "code",
   "execution_count": 5,
   "metadata": {},
   "outputs": [],
   "source": [
    "df['installation_time'] = pd.to_datetime(df['installation_at']).dt.time\n",
    "df['installation_at'] = pd.to_datetime(df['installation_at'])\n",
    "\n",
    "\n",
    "df['request_time'] = pd.to_datetime(df['request_created_at']).dt.time\n",
    "df['request_created_at'] = pd.to_datetime(df['request_created_at'])\n",
    "\n",
    "df['agent_respond_time'] = pd.to_datetime(df['agent_responded_to_customer_at']).dt.time\n",
    "df['agent_responded_to_customer_at'] = pd.to_datetime(df['agent_responded_to_customer_at'])\n",
    "\n",
    "df['customer_sold_time'] = pd.to_datetime(df['customer_sold_at']).dt.time\n",
    "df['customer_sold_at'] = pd.to_datetime(df['customer_sold_at'])"
   ]
  },
  {
   "cell_type": "code",
   "execution_count": 6,
   "metadata": {},
   "outputs": [
    {
     "data": {
      "text/html": [
       "<div>\n",
       "<style scoped>\n",
       "    .dataframe tbody tr th:only-of-type {\n",
       "        vertical-align: middle;\n",
       "    }\n",
       "\n",
       "    .dataframe tbody tr th {\n",
       "        vertical-align: top;\n",
       "    }\n",
       "\n",
       "    .dataframe thead th {\n",
       "        text-align: right;\n",
       "    }\n",
       "</style>\n",
       "<table border=\"1\" class=\"dataframe\">\n",
       "  <thead>\n",
       "    <tr style=\"text-align: right;\">\n",
       "      <th></th>\n",
       "      <th>user_id</th>\n",
       "      <th>installation_at</th>\n",
       "      <th>request_created_at</th>\n",
       "      <th>agent_responded_to_customer_at</th>\n",
       "      <th>customer_sold_at</th>\n",
       "      <th>installation_time</th>\n",
       "      <th>request_time</th>\n",
       "      <th>agent_respond_time</th>\n",
       "      <th>customer_sold_time</th>\n",
       "    </tr>\n",
       "  </thead>\n",
       "  <tbody>\n",
       "    <tr>\n",
       "      <th>0</th>\n",
       "      <td>197393</td>\n",
       "      <td>2019-10-09 23:58:00</td>\n",
       "      <td>2019-10-10 00:03:00</td>\n",
       "      <td>2019-10-10 18:16:00</td>\n",
       "      <td>NaT</td>\n",
       "      <td>23:58:00</td>\n",
       "      <td>00:03:00</td>\n",
       "      <td>18:16:00</td>\n",
       "      <td>NaT</td>\n",
       "    </tr>\n",
       "    <tr>\n",
       "      <th>1</th>\n",
       "      <td>197392</td>\n",
       "      <td>2019-10-09 23:57:00</td>\n",
       "      <td>2019-10-10 00:04:00</td>\n",
       "      <td>NaT</td>\n",
       "      <td>NaT</td>\n",
       "      <td>23:57:00</td>\n",
       "      <td>00:04:00</td>\n",
       "      <td>NaT</td>\n",
       "      <td>NaT</td>\n",
       "    </tr>\n",
       "    <tr>\n",
       "      <th>2</th>\n",
       "      <td>197391</td>\n",
       "      <td>2019-10-09 23:56:00</td>\n",
       "      <td>NaT</td>\n",
       "      <td>NaT</td>\n",
       "      <td>NaT</td>\n",
       "      <td>23:56:00</td>\n",
       "      <td>NaT</td>\n",
       "      <td>NaT</td>\n",
       "      <td>NaT</td>\n",
       "    </tr>\n",
       "    <tr>\n",
       "      <th>3</th>\n",
       "      <td>197390</td>\n",
       "      <td>2019-10-09 23:56:00</td>\n",
       "      <td>2019-10-10 00:11:00</td>\n",
       "      <td>2019-10-10 00:26:00</td>\n",
       "      <td>NaT</td>\n",
       "      <td>23:56:00</td>\n",
       "      <td>00:11:00</td>\n",
       "      <td>00:26:00</td>\n",
       "      <td>NaT</td>\n",
       "    </tr>\n",
       "    <tr>\n",
       "      <th>4</th>\n",
       "      <td>197389</td>\n",
       "      <td>2019-10-09 23:56:00</td>\n",
       "      <td>2019-10-09 23:59:00</td>\n",
       "      <td>2019-10-10 23:09:00</td>\n",
       "      <td>NaT</td>\n",
       "      <td>23:56:00</td>\n",
       "      <td>23:59:00</td>\n",
       "      <td>23:09:00</td>\n",
       "      <td>NaT</td>\n",
       "    </tr>\n",
       "  </tbody>\n",
       "</table>\n",
       "</div>"
      ],
      "text/plain": [
       "   user_id     installation_at  request_created_at  \\\n",
       "0   197393 2019-10-09 23:58:00 2019-10-10 00:03:00   \n",
       "1   197392 2019-10-09 23:57:00 2019-10-10 00:04:00   \n",
       "2   197391 2019-10-09 23:56:00                 NaT   \n",
       "3   197390 2019-10-09 23:56:00 2019-10-10 00:11:00   \n",
       "4   197389 2019-10-09 23:56:00 2019-10-09 23:59:00   \n",
       "\n",
       "  agent_responded_to_customer_at customer_sold_at installation_time  \\\n",
       "0            2019-10-10 18:16:00              NaT          23:58:00   \n",
       "1                            NaT              NaT          23:57:00   \n",
       "2                            NaT              NaT          23:56:00   \n",
       "3            2019-10-10 00:26:00              NaT          23:56:00   \n",
       "4            2019-10-10 23:09:00              NaT          23:56:00   \n",
       "\n",
       "  request_time agent_respond_time customer_sold_time  \n",
       "0     00:03:00           18:16:00                NaT  \n",
       "1     00:04:00                NaT                NaT  \n",
       "2          NaT                NaT                NaT  \n",
       "3     00:11:00           00:26:00                NaT  \n",
       "4     23:59:00           23:09:00                NaT  "
      ]
     },
     "execution_count": 6,
     "metadata": {},
     "output_type": "execute_result"
    }
   ],
   "source": [
    "df.head()"
   ]
  },
  {
   "cell_type": "code",
   "execution_count": 7,
   "metadata": {},
   "outputs": [],
   "source": [
    "#If missing value is NaN\n",
    "df['Sold'] = np.where(df['customer_sold_at'].isna(), 0 , 1)"
   ]
  },
  {
   "cell_type": "code",
   "execution_count": 8,
   "metadata": {},
   "outputs": [],
   "source": [
    "# df.drop([\"installation_at\", \n",
    "#           \"request_created_at\", \n",
    "#           \"agent_responded_to_customer_at\",\n",
    "#           \"customer_sold_at\"], axis=1, inplace=True)"
   ]
  },
  {
   "cell_type": "code",
   "execution_count": 9,
   "metadata": {},
   "outputs": [
    {
     "name": "stdout",
     "output_type": "stream",
     "text": [
      "<class 'pandas.core.frame.DataFrame'>\n",
      "RangeIndex: 132296 entries, 0 to 132295\n",
      "Data columns (total 10 columns):\n",
      " #   Column                          Non-Null Count   Dtype         \n",
      "---  ------                          --------------   -----         \n",
      " 0   user_id                         132296 non-null  int64         \n",
      " 1   installation_at                 132290 non-null  datetime64[ns]\n",
      " 2   request_created_at              99058 non-null   datetime64[ns]\n",
      " 3   agent_responded_to_customer_at  74394 non-null   datetime64[ns]\n",
      " 4   customer_sold_at                5741 non-null    datetime64[ns]\n",
      " 5   installation_time               132290 non-null  object        \n",
      " 6   request_time                    99058 non-null   object        \n",
      " 7   agent_respond_time              74394 non-null   object        \n",
      " 8   customer_sold_time              5741 non-null    object        \n",
      " 9   Sold                            132296 non-null  int64         \n",
      "dtypes: datetime64[ns](4), int64(2), object(4)\n",
      "memory usage: 10.1+ MB\n"
     ]
    }
   ],
   "source": [
    "df.info()"
   ]
  },
  {
   "cell_type": "code",
   "execution_count": 10,
   "metadata": {},
   "outputs": [],
   "source": [
    "df['installation_day_of_week'] = df['installation_at'].dt.day_name()\n",
    "df['request_day_of_week'] = df['request_created_at'].dt.day_name()\n",
    "df['agent_respond_day_of_week'] = df['agent_responded_to_customer_at'].dt.day_name()\n",
    "df['customer_sold_day_of_week'] = df['customer_sold_at'].dt.day_name()"
   ]
  },
  {
   "cell_type": "code",
   "execution_count": 11,
   "metadata": {},
   "outputs": [
    {
     "data": {
      "text/html": [
       "<div>\n",
       "<style scoped>\n",
       "    .dataframe tbody tr th:only-of-type {\n",
       "        vertical-align: middle;\n",
       "    }\n",
       "\n",
       "    .dataframe tbody tr th {\n",
       "        vertical-align: top;\n",
       "    }\n",
       "\n",
       "    .dataframe thead th {\n",
       "        text-align: right;\n",
       "    }\n",
       "</style>\n",
       "<table border=\"1\" class=\"dataframe\">\n",
       "  <thead>\n",
       "    <tr style=\"text-align: right;\">\n",
       "      <th></th>\n",
       "      <th>user_id</th>\n",
       "      <th>installation_at</th>\n",
       "      <th>request_created_at</th>\n",
       "      <th>agent_responded_to_customer_at</th>\n",
       "      <th>customer_sold_at</th>\n",
       "      <th>installation_time</th>\n",
       "      <th>request_time</th>\n",
       "      <th>agent_respond_time</th>\n",
       "      <th>customer_sold_time</th>\n",
       "      <th>Sold</th>\n",
       "      <th>installation_day_of_week</th>\n",
       "      <th>request_day_of_week</th>\n",
       "      <th>agent_respond_day_of_week</th>\n",
       "      <th>customer_sold_day_of_week</th>\n",
       "    </tr>\n",
       "  </thead>\n",
       "  <tbody>\n",
       "    <tr>\n",
       "      <th>0</th>\n",
       "      <td>197393</td>\n",
       "      <td>2019-10-09 23:58:00</td>\n",
       "      <td>2019-10-10 00:03:00</td>\n",
       "      <td>2019-10-10 18:16:00</td>\n",
       "      <td>NaT</td>\n",
       "      <td>23:58:00</td>\n",
       "      <td>00:03:00</td>\n",
       "      <td>18:16:00</td>\n",
       "      <td>NaT</td>\n",
       "      <td>0</td>\n",
       "      <td>Wednesday</td>\n",
       "      <td>Thursday</td>\n",
       "      <td>Thursday</td>\n",
       "      <td>NaN</td>\n",
       "    </tr>\n",
       "    <tr>\n",
       "      <th>1</th>\n",
       "      <td>197392</td>\n",
       "      <td>2019-10-09 23:57:00</td>\n",
       "      <td>2019-10-10 00:04:00</td>\n",
       "      <td>NaT</td>\n",
       "      <td>NaT</td>\n",
       "      <td>23:57:00</td>\n",
       "      <td>00:04:00</td>\n",
       "      <td>NaT</td>\n",
       "      <td>NaT</td>\n",
       "      <td>0</td>\n",
       "      <td>Wednesday</td>\n",
       "      <td>Thursday</td>\n",
       "      <td>NaN</td>\n",
       "      <td>NaN</td>\n",
       "    </tr>\n",
       "    <tr>\n",
       "      <th>2</th>\n",
       "      <td>197391</td>\n",
       "      <td>2019-10-09 23:56:00</td>\n",
       "      <td>NaT</td>\n",
       "      <td>NaT</td>\n",
       "      <td>NaT</td>\n",
       "      <td>23:56:00</td>\n",
       "      <td>NaT</td>\n",
       "      <td>NaT</td>\n",
       "      <td>NaT</td>\n",
       "      <td>0</td>\n",
       "      <td>Wednesday</td>\n",
       "      <td>NaN</td>\n",
       "      <td>NaN</td>\n",
       "      <td>NaN</td>\n",
       "    </tr>\n",
       "    <tr>\n",
       "      <th>3</th>\n",
       "      <td>197390</td>\n",
       "      <td>2019-10-09 23:56:00</td>\n",
       "      <td>2019-10-10 00:11:00</td>\n",
       "      <td>2019-10-10 00:26:00</td>\n",
       "      <td>NaT</td>\n",
       "      <td>23:56:00</td>\n",
       "      <td>00:11:00</td>\n",
       "      <td>00:26:00</td>\n",
       "      <td>NaT</td>\n",
       "      <td>0</td>\n",
       "      <td>Wednesday</td>\n",
       "      <td>Thursday</td>\n",
       "      <td>Thursday</td>\n",
       "      <td>NaN</td>\n",
       "    </tr>\n",
       "    <tr>\n",
       "      <th>4</th>\n",
       "      <td>197389</td>\n",
       "      <td>2019-10-09 23:56:00</td>\n",
       "      <td>2019-10-09 23:59:00</td>\n",
       "      <td>2019-10-10 23:09:00</td>\n",
       "      <td>NaT</td>\n",
       "      <td>23:56:00</td>\n",
       "      <td>23:59:00</td>\n",
       "      <td>23:09:00</td>\n",
       "      <td>NaT</td>\n",
       "      <td>0</td>\n",
       "      <td>Wednesday</td>\n",
       "      <td>Wednesday</td>\n",
       "      <td>Thursday</td>\n",
       "      <td>NaN</td>\n",
       "    </tr>\n",
       "  </tbody>\n",
       "</table>\n",
       "</div>"
      ],
      "text/plain": [
       "   user_id     installation_at  request_created_at  \\\n",
       "0   197393 2019-10-09 23:58:00 2019-10-10 00:03:00   \n",
       "1   197392 2019-10-09 23:57:00 2019-10-10 00:04:00   \n",
       "2   197391 2019-10-09 23:56:00                 NaT   \n",
       "3   197390 2019-10-09 23:56:00 2019-10-10 00:11:00   \n",
       "4   197389 2019-10-09 23:56:00 2019-10-09 23:59:00   \n",
       "\n",
       "  agent_responded_to_customer_at customer_sold_at installation_time  \\\n",
       "0            2019-10-10 18:16:00              NaT          23:58:00   \n",
       "1                            NaT              NaT          23:57:00   \n",
       "2                            NaT              NaT          23:56:00   \n",
       "3            2019-10-10 00:26:00              NaT          23:56:00   \n",
       "4            2019-10-10 23:09:00              NaT          23:56:00   \n",
       "\n",
       "  request_time agent_respond_time customer_sold_time  Sold  \\\n",
       "0     00:03:00           18:16:00                NaT     0   \n",
       "1     00:04:00                NaT                NaT     0   \n",
       "2          NaT                NaT                NaT     0   \n",
       "3     00:11:00           00:26:00                NaT     0   \n",
       "4     23:59:00           23:09:00                NaT     0   \n",
       "\n",
       "  installation_day_of_week request_day_of_week agent_respond_day_of_week  \\\n",
       "0                Wednesday            Thursday                  Thursday   \n",
       "1                Wednesday            Thursday                       NaN   \n",
       "2                Wednesday                 NaN                       NaN   \n",
       "3                Wednesday            Thursday                  Thursday   \n",
       "4                Wednesday           Wednesday                  Thursday   \n",
       "\n",
       "  customer_sold_day_of_week  \n",
       "0                       NaN  \n",
       "1                       NaN  \n",
       "2                       NaN  \n",
       "3                       NaN  \n",
       "4                       NaN  "
      ]
     },
     "execution_count": 11,
     "metadata": {},
     "output_type": "execute_result"
    }
   ],
   "source": [
    "df.head()"
   ]
  },
  {
   "cell_type": "markdown",
   "metadata": {},
   "source": [
    "# Preprocessing pipeline"
   ]
  },
  {
   "cell_type": "code",
   "execution_count": 12,
   "metadata": {},
   "outputs": [],
   "source": [
    "#df.fillna(0, inplace=True)"
   ]
  },
  {
   "cell_type": "code",
   "execution_count": 13,
   "metadata": {},
   "outputs": [
    {
     "name": "stdout",
     "output_type": "stream",
     "text": [
      "<class 'pandas.core.frame.DataFrame'>\n",
      "RangeIndex: 132296 entries, 0 to 132295\n",
      "Data columns (total 14 columns):\n",
      " #   Column                          Non-Null Count   Dtype         \n",
      "---  ------                          --------------   -----         \n",
      " 0   user_id                         132296 non-null  int64         \n",
      " 1   installation_at                 132290 non-null  datetime64[ns]\n",
      " 2   request_created_at              99058 non-null   datetime64[ns]\n",
      " 3   agent_responded_to_customer_at  74394 non-null   datetime64[ns]\n",
      " 4   customer_sold_at                5741 non-null    datetime64[ns]\n",
      " 5   installation_time               132290 non-null  object        \n",
      " 6   request_time                    99058 non-null   object        \n",
      " 7   agent_respond_time              74394 non-null   object        \n",
      " 8   customer_sold_time              5741 non-null    object        \n",
      " 9   Sold                            132296 non-null  int64         \n",
      " 10  installation_day_of_week        132290 non-null  object        \n",
      " 11  request_day_of_week             99058 non-null   object        \n",
      " 12  agent_respond_day_of_week       74394 non-null   object        \n",
      " 13  customer_sold_day_of_week       5741 non-null    object        \n",
      "dtypes: datetime64[ns](4), int64(2), object(8)\n",
      "memory usage: 14.1+ MB\n"
     ]
    }
   ],
   "source": [
    "df.info()"
   ]
  },
  {
   "cell_type": "code",
   "execution_count": 14,
   "metadata": {},
   "outputs": [
    {
     "data": {
      "text/plain": [
       "user_id                                0\n",
       "installation_at                        6\n",
       "request_created_at                 33238\n",
       "agent_responded_to_customer_at     57902\n",
       "customer_sold_at                  126555\n",
       "installation_time                      6\n",
       "request_time                       33238\n",
       "agent_respond_time                 57902\n",
       "customer_sold_time                126555\n",
       "Sold                                   0\n",
       "installation_day_of_week               6\n",
       "request_day_of_week                33238\n",
       "agent_respond_day_of_week          57902\n",
       "customer_sold_day_of_week         126555\n",
       "dtype: int64"
      ]
     },
     "execution_count": 14,
     "metadata": {},
     "output_type": "execute_result"
    }
   ],
   "source": [
    "df.isna().sum()"
   ]
  },
  {
   "cell_type": "code",
   "execution_count": 15,
   "metadata": {},
   "outputs": [],
   "source": [
    "# copy dataframe\n",
    "\n",
    "df_processed = df.copy()"
   ]
  },
  {
   "cell_type": "code",
   "execution_count": 16,
   "metadata": {},
   "outputs": [
    {
     "name": "stdout",
     "output_type": "stream",
     "text": [
      "installation_time\n",
      "request_time\n",
      "agent_respond_time\n",
      "customer_sold_time\n",
      "installation_day_of_week\n",
      "request_day_of_week\n",
      "agent_respond_day_of_week\n",
      "customer_sold_day_of_week\n"
     ]
    }
   ],
   "source": [
    "# These columns contain strings\n",
    "for label, content in df_processed.items():\n",
    "    if pd.api.types.is_string_dtype(content):\n",
    "        print(label)"
   ]
  },
  {
   "cell_type": "code",
   "execution_count": 17,
   "metadata": {},
   "outputs": [],
   "source": [
    "# This will turn all of the string values into category values\n",
    "for label, content in df.items():\n",
    "    if pd.api.types.is_string_dtype(content):\n",
    "        df[label] = content.astype(\"category\").cat.as_ordered()"
   ]
  },
  {
   "cell_type": "code",
   "execution_count": 18,
   "metadata": {},
   "outputs": [
    {
     "name": "stdout",
     "output_type": "stream",
     "text": [
      "<class 'pandas.core.frame.DataFrame'>\n",
      "RangeIndex: 132296 entries, 0 to 132295\n",
      "Data columns (total 14 columns):\n",
      " #   Column                          Non-Null Count   Dtype         \n",
      "---  ------                          --------------   -----         \n",
      " 0   user_id                         132296 non-null  int64         \n",
      " 1   installation_at                 132290 non-null  datetime64[ns]\n",
      " 2   request_created_at              99058 non-null   datetime64[ns]\n",
      " 3   agent_responded_to_customer_at  74394 non-null   datetime64[ns]\n",
      " 4   customer_sold_at                5741 non-null    datetime64[ns]\n",
      " 5   installation_time               132290 non-null  object        \n",
      " 6   request_time                    99058 non-null   object        \n",
      " 7   agent_respond_time              74394 non-null   object        \n",
      " 8   customer_sold_time              5741 non-null    object        \n",
      " 9   Sold                            132296 non-null  int64         \n",
      " 10  installation_day_of_week        132290 non-null  object        \n",
      " 11  request_day_of_week             99058 non-null   object        \n",
      " 12  agent_respond_day_of_week       74394 non-null   object        \n",
      " 13  customer_sold_day_of_week       5741 non-null    object        \n",
      "dtypes: datetime64[ns](4), int64(2), object(8)\n",
      "memory usage: 14.1+ MB\n"
     ]
    }
   ],
   "source": [
    "df_processed.info()"
   ]
  },
  {
   "cell_type": "code",
   "execution_count": 19,
   "metadata": {},
   "outputs": [
    {
     "name": "stdout",
     "output_type": "stream",
     "text": [
      "installation_at\n",
      "request_created_at\n",
      "agent_responded_to_customer_at\n",
      "customer_sold_at\n",
      "installation_time\n",
      "request_time\n",
      "agent_respond_time\n",
      "customer_sold_time\n",
      "installation_day_of_week\n",
      "request_day_of_week\n",
      "agent_respond_day_of_week\n",
      "customer_sold_day_of_week\n"
     ]
    }
   ],
   "source": [
    "# Check columns which *aren't* numeric\n",
    "for label, content in df_processed.items():\n",
    "    if not pd.api.types.is_numeric_dtype(content):\n",
    "        print(label)"
   ]
  },
  {
   "cell_type": "code",
   "execution_count": 20,
   "metadata": {},
   "outputs": [],
   "source": [
    "# Turn categorical variables into numbers\n",
    "for label, content in df_processed.items():\n",
    "    # Check columns which *aren't* numeric\n",
    "    if not pd.api.types.is_numeric_dtype(content):\n",
    "        # Add binary column to inidicate whether sample had missing value\n",
    "        df_processed[label+\"_is_missing\"] = pd.isnull(content)\n",
    "        # We add the +1 because pandas encodes missing categories as -1\n",
    "        df_processed[label] = pd.Categorical(content).codes+1"
   ]
  },
  {
   "cell_type": "code",
   "execution_count": 21,
   "metadata": {},
   "outputs": [
    {
     "name": "stdout",
     "output_type": "stream",
     "text": [
      "<class 'pandas.core.frame.DataFrame'>\n",
      "RangeIndex: 132296 entries, 0 to 132295\n",
      "Data columns (total 26 columns):\n",
      " #   Column                                     Non-Null Count   Dtype\n",
      "---  ------                                     --------------   -----\n",
      " 0   user_id                                    132296 non-null  int64\n",
      " 1   installation_at                            132296 non-null  int32\n",
      " 2   request_created_at                         132296 non-null  int32\n",
      " 3   agent_responded_to_customer_at             132296 non-null  int32\n",
      " 4   customer_sold_at                           132296 non-null  int16\n",
      " 5   installation_time                          132296 non-null  int16\n",
      " 6   request_time                               132296 non-null  int16\n",
      " 7   agent_respond_time                         132296 non-null  int16\n",
      " 8   customer_sold_time                         132296 non-null  int16\n",
      " 9   Sold                                       132296 non-null  int64\n",
      " 10  installation_day_of_week                   132296 non-null  int8 \n",
      " 11  request_day_of_week                        132296 non-null  int8 \n",
      " 12  agent_respond_day_of_week                  132296 non-null  int8 \n",
      " 13  customer_sold_day_of_week                  132296 non-null  int8 \n",
      " 14  installation_at_is_missing                 132296 non-null  bool \n",
      " 15  request_created_at_is_missing              132296 non-null  bool \n",
      " 16  agent_responded_to_customer_at_is_missing  132296 non-null  bool \n",
      " 17  customer_sold_at_is_missing                132296 non-null  bool \n",
      " 18  installation_time_is_missing               132296 non-null  bool \n",
      " 19  request_time_is_missing                    132296 non-null  bool \n",
      " 20  agent_respond_time_is_missing              132296 non-null  bool \n",
      " 21  customer_sold_time_is_missing              132296 non-null  bool \n",
      " 22  installation_day_of_week_is_missing        132296 non-null  bool \n",
      " 23  request_day_of_week_is_missing             132296 non-null  bool \n",
      " 24  agent_respond_day_of_week_is_missing       132296 non-null  bool \n",
      " 25  customer_sold_day_of_week_is_missing       132296 non-null  bool \n",
      "dtypes: bool(12), int16(5), int32(3), int64(2), int8(4)\n",
      "memory usage: 6.8 MB\n"
     ]
    }
   ],
   "source": [
    "df_processed.info()"
   ]
  },
  {
   "cell_type": "code",
   "execution_count": 22,
   "metadata": {},
   "outputs": [
    {
     "data": {
      "text/plain": [
       "user_id                                      0\n",
       "installation_at                              0\n",
       "request_created_at                           0\n",
       "agent_responded_to_customer_at               0\n",
       "customer_sold_at                             0\n",
       "installation_time                            0\n",
       "request_time                                 0\n",
       "agent_respond_time                           0\n",
       "customer_sold_time                           0\n",
       "Sold                                         0\n",
       "installation_day_of_week                     0\n",
       "request_day_of_week                          0\n",
       "agent_respond_day_of_week                    0\n",
       "customer_sold_day_of_week                    0\n",
       "installation_at_is_missing                   0\n",
       "request_created_at_is_missing                0\n",
       "agent_responded_to_customer_at_is_missing    0\n",
       "customer_sold_at_is_missing                  0\n",
       "installation_time_is_missing                 0\n",
       "request_time_is_missing                      0\n",
       "agent_respond_time_is_missing                0\n",
       "customer_sold_time_is_missing                0\n",
       "installation_day_of_week_is_missing          0\n",
       "request_day_of_week_is_missing               0\n",
       "agent_respond_day_of_week_is_missing         0\n",
       "customer_sold_day_of_week_is_missing         0\n",
       "dtype: int64"
      ]
     },
     "execution_count": 22,
     "metadata": {},
     "output_type": "execute_result"
    }
   ],
   "source": [
    "df_processed.isna().sum()"
   ]
  },
  {
   "cell_type": "code",
   "execution_count": 23,
   "metadata": {},
   "outputs": [],
   "source": [
    "from sklearn.ensemble import RandomForestClassifier\n",
    "\n",
    "rfc_model = RandomForestClassifier()"
   ]
  },
  {
   "cell_type": "code",
   "execution_count": 24,
   "metadata": {},
   "outputs": [],
   "source": [
    "from sklearn.model_selection import train_test_split\n",
    "\n",
    "X = df_processed.drop(\"Sold\", axis = 1)\n",
    "y = df_processed[\"Sold\"]\n",
    "\n",
    "X_train, X_test, y_train, y_test = train_test_split(X, y, test_size = 0.2)"
   ]
  },
  {
   "cell_type": "code",
   "execution_count": 25,
   "metadata": {},
   "outputs": [
    {
     "data": {
      "text/plain": [
       "RandomForestClassifier(bootstrap=True, ccp_alpha=0.0, class_weight=None,\n",
       "                       criterion='gini', max_depth=None, max_features='auto',\n",
       "                       max_leaf_nodes=None, max_samples=None,\n",
       "                       min_impurity_decrease=0.0, min_impurity_split=None,\n",
       "                       min_samples_leaf=1, min_samples_split=2,\n",
       "                       min_weight_fraction_leaf=0.0, n_estimators=100,\n",
       "                       n_jobs=None, oob_score=False, random_state=None,\n",
       "                       verbose=0, warm_start=False)"
      ]
     },
     "execution_count": 25,
     "metadata": {},
     "output_type": "execute_result"
    }
   ],
   "source": [
    "rfc_model.fit(X_train, y_train)"
   ]
  },
  {
   "cell_type": "code",
   "execution_count": 26,
   "metadata": {},
   "outputs": [
    {
     "data": {
      "text/plain": [
       "1.0"
      ]
     },
     "execution_count": 26,
     "metadata": {},
     "output_type": "execute_result"
    }
   ],
   "source": [
    "rfc_model.score(X_train, y_train)"
   ]
  },
  {
   "cell_type": "code",
   "execution_count": 27,
   "metadata": {},
   "outputs": [
    {
     "data": {
      "text/plain": [
       "1.0"
      ]
     },
     "execution_count": 27,
     "metadata": {},
     "output_type": "execute_result"
    }
   ],
   "source": [
    "rfc_model.score(X_test, y_test)"
   ]
  },
  {
   "cell_type": "code",
   "execution_count": 28,
   "metadata": {},
   "outputs": [],
   "source": [
    "# Create evaluation function (the competition uses Root Mean Square Log Error)\n",
    "from sklearn.metrics import mean_squared_log_error, mean_absolute_error\n",
    "\n",
    "def rmsle(y_test, y_preds):\n",
    "    return np.sqrt(mean_squared_log_error(y_test, y_preds))\n",
    "\n",
    "# Create function to evaluate our model\n",
    "def show_scores(model):\n",
    "    train_preds = model.predict(X_train)\n",
    "    test_preds = model.predict(X_test)\n",
    "    scores = {\"Training MAE\": mean_absolute_error(y_train, train_preds),\n",
    "              \"Test MAE\": mean_absolute_error(y_test, test_preds),\n",
    "              \"Training RMSLE\": rmsle(y_train, train_preds),\n",
    "              \"Test RMSLE\": rmsle(y_test, test_preds),\n",
    "              \"Training R^2\": model.score(X_train, y_train),\n",
    "              \"Test R^2\": model.score(X_test, y_test)}\n",
    "    return scores"
   ]
  },
  {
   "cell_type": "code",
   "execution_count": 29,
   "metadata": {},
   "outputs": [
    {
     "data": {
      "text/plain": [
       "{'Training MAE': 0.0,\n",
       " 'Test MAE': 0.0,\n",
       " 'Training RMSLE': 0.0,\n",
       " 'Test RMSLE': 0.0,\n",
       " 'Training R^2': 1.0,\n",
       " 'Test R^2': 1.0}"
      ]
     },
     "execution_count": 29,
     "metadata": {},
     "output_type": "execute_result"
    }
   ],
   "source": [
    "show_scores(rfc_model)"
   ]
  },
  {
   "cell_type": "code",
   "execution_count": 30,
   "metadata": {},
   "outputs": [
    {
     "name": "stdout",
     "output_type": "stream",
     "text": [
      "Fitting 5 folds for each of 20 candidates, totalling 100 fits\n"
     ]
    },
    {
     "name": "stderr",
     "output_type": "stream",
     "text": [
      "[Parallel(n_jobs=1)]: Using backend SequentialBackend with 1 concurrent workers.\n",
      "[Parallel(n_jobs=1)]: Done 100 out of 100 | elapsed:  1.4min finished\n"
     ]
    },
    {
     "name": "stdout",
     "output_type": "stream",
     "text": [
      "CPU times: user 1min 15s, sys: 4.5 s, total: 1min 20s\n",
      "Wall time: 1min 22s\n"
     ]
    },
    {
     "data": {
      "text/plain": [
       "RandomizedSearchCV(cv=5, error_score=nan,\n",
       "                   estimator=RandomForestClassifier(bootstrap=True,\n",
       "                                                    ccp_alpha=0.0,\n",
       "                                                    class_weight=None,\n",
       "                                                    criterion='gini',\n",
       "                                                    max_depth=None,\n",
       "                                                    max_features='auto',\n",
       "                                                    max_leaf_nodes=None,\n",
       "                                                    max_samples=None,\n",
       "                                                    min_impurity_decrease=0.0,\n",
       "                                                    min_impurity_split=None,\n",
       "                                                    min_samples_leaf=1,\n",
       "                                                    min_samples_split=2,\n",
       "                                                    min_weight_fraction_leaf=0.0,\n",
       "                                                    n_estimators=100,\n",
       "                                                    n_jobs...\n",
       "                   param_distributions={'max_depth': [None, 3, 5, 10],\n",
       "                                        'max_features': [0.5, 1, 'sqrt',\n",
       "                                                         'auto'],\n",
       "                                        'max_samples': [10000],\n",
       "                                        'min_samples_leaf': array([ 1,  3,  5,  7,  9, 11, 13, 15, 17, 19]),\n",
       "                                        'min_samples_split': array([ 2,  4,  6,  8, 10, 12, 14, 16, 18]),\n",
       "                                        'n_estimators': array([10, 20, 30, 40, 50, 60, 70, 80, 90])},\n",
       "                   pre_dispatch='2*n_jobs', random_state=None, refit=True,\n",
       "                   return_train_score=False, scoring=None, verbose=True)"
      ]
     },
     "execution_count": 30,
     "metadata": {},
     "output_type": "execute_result"
    }
   ],
   "source": [
    "%%time\n",
    "from sklearn.model_selection import RandomizedSearchCV\n",
    "\n",
    "# Different RandomForestClassifier hyperparameters\n",
    "rf_grid = {\"n_estimators\": np.arange(10, 100, 10),\n",
    "           \"max_depth\": [None, 3, 5, 10],\n",
    "           \"min_samples_split\": np.arange(2, 20, 2),\n",
    "           \"min_samples_leaf\": np.arange(1, 20, 2),\n",
    "           \"max_features\": [0.5, 1, \"sqrt\", \"auto\"],\n",
    "           \"max_samples\": [10000]}\n",
    "\n",
    "rs_model = RandomizedSearchCV(RandomForestClassifier(),\n",
    "                              param_distributions=rf_grid,\n",
    "                              n_iter=20,\n",
    "                              cv=5,\n",
    "                              verbose=True)\n",
    "\n",
    "rs_model.fit(X_train, y_train)"
   ]
  },
  {
   "cell_type": "code",
   "execution_count": 31,
   "metadata": {},
   "outputs": [
    {
     "data": {
      "text/plain": [
       "{'Training MAE': 0.0,\n",
       " 'Test MAE': 0.0,\n",
       " 'Training RMSLE': 0.0,\n",
       " 'Test RMSLE': 0.0,\n",
       " 'Training R^2': 1.0,\n",
       " 'Test R^2': 1.0}"
      ]
     },
     "execution_count": 31,
     "metadata": {},
     "output_type": "execute_result"
    }
   ],
   "source": [
    "show_scores(rs_model)"
   ]
  },
  {
   "cell_type": "code",
   "execution_count": 32,
   "metadata": {},
   "outputs": [],
   "source": [
    "test_preds = rs_model.predict(X_test)"
   ]
  },
  {
   "cell_type": "code",
   "execution_count": 33,
   "metadata": {},
   "outputs": [],
   "source": [
    "# Create DataFrame compatible with Kaggle submission requirements\n",
    "df_preds = pd.DataFrame()\n",
    "df_preds[\"user_id\"] = X_test[\"user_id\"]\n",
    "df_preds[\"y_test\"] = y_test\n",
    "df_preds[\"Prediction\"] = test_preds\n",
    "df_preds.to_csv(\"Prediction_Set.csv\")"
   ]
  },
  {
   "cell_type": "code",
   "execution_count": 34,
   "metadata": {},
   "outputs": [
    {
     "name": "stdout",
     "output_type": "stream",
     "text": [
      "[[25350     0]\n",
      " [    0  1110]]\n"
     ]
    }
   ],
   "source": [
    "from sklearn.metrics import confusion_matrix\n",
    "\n",
    "cm = confusion_matrix(y_test, test_preds)\n",
    "print(cm)"
   ]
  },
  {
   "cell_type": "code",
   "execution_count": 35,
   "metadata": {},
   "outputs": [
    {
     "data": {
      "image/png": "[encoded data removed]",
      "text/plain": [
       "<Figure size 216x216 with 1 Axes>"
      ]
     },
     "metadata": {},
     "output_type": "display_data"
    }
   ],
   "source": [
    "# Import Seaborn\n",
    "import seaborn as sns\n",
    "sns.set(font_scale=1.5) # Increase font size\n",
    "\n",
    "def plot_conf_mat(y_test, y_preds):\n",
    "    \"\"\"\n",
    "    Plots a confusion matrix using Seaborn's heatmap().\n",
    "    \"\"\"\n",
    "    fig, ax = plt.subplots(figsize=(3, 3))\n",
    "    ax = sns.heatmap(confusion_matrix(y_test, test_preds),\n",
    "                     annot=True, # Annotate the boxes\n",
    "                     cbar=False,\n",
    "                    fmt='d')\n",
    "    plt.xlabel(\"true label\")\n",
    "    plt.ylabel(\"predicted label\")\n",
    "    \n",
    "plot_conf_mat(y_test, test_preds)"
   ]
  },
  {
   "cell_type": "code",
   "execution_count": 36,
   "metadata": {},
   "outputs": [
    {
     "data": {
      "text/plain": [
       "array([5.79081406e-05, 0.00000000e+00, 2.65083792e-04, 2.39262497e-03,\n",
       "       9.31275320e-02, 2.24851161e-06, 3.31638385e-04, 1.75276361e-03,\n",
       "       1.09272246e-01, 0.00000000e+00, 3.97652813e-09, 3.39499159e-04,\n",
       "       1.82708534e-01, 0.00000000e+00, 1.27055000e-07, 3.41267031e-04,\n",
       "       2.28191772e-01, 0.00000000e+00, 0.00000000e+00, 8.84529345e-04,\n",
       "       1.82369681e-01, 0.00000000e+00, 1.53449026e-04, 2.23784543e-03,\n",
       "       1.95571247e-01])"
      ]
     },
     "execution_count": 36,
     "metadata": {},
     "output_type": "execute_result"
    }
   ],
   "source": [
    "# Find feature importance of our best model\n",
    "rfc_model.feature_importances_"
   ]
  },
  {
   "cell_type": "code",
   "execution_count": 37,
   "metadata": {},
   "outputs": [],
   "source": [
    "\n",
    "# Helper function for plotting feature importance\n",
    "def plot_features(columns, importances, n=20):\n",
    "    df = (pd.DataFrame({\"features\": columns,\n",
    "                        \"feature_importance\": importances})\n",
    "          .sort_values(\"feature_importance\", ascending=False)\n",
    "          .reset_index(drop=True))\n",
    "    \n",
    "    sns.barplot(x=\"feature_importance\",\n",
    "                y=\"features\",\n",
    "                data=df[:n],\n",
    "                orient=\"h\")"
   ]
  },
  {
   "cell_type": "code",
   "execution_count": 38,
   "metadata": {},
   "outputs": [
    {
     "data": {
      "image/png": "[encoded data removed]",
      "text/plain": [
       "<Figure size 432x288 with 1 Axes>"
      ]
     },
     "metadata": {},
     "output_type": "display_data"
    }
   ],
   "source": [
    "plot_features(X_train.columns, rfc_model.feature_importances_)"
   ]
  },
  {
   "cell_type": "markdown",
   "metadata": {},
   "source": [
    "The importance columns for prediciting if a customer bought the insurance policy is:\n",
    "    - The time the customer was sold the policy and the day of the week they were sold the policy"
   ]
  },
  {
   "cell_type": "markdown",
   "metadata": {},
   "source": [
    "### Let's graph the day of the week"
   ]
  },
  {
   "cell_type": "code",
   "execution_count": 39,
   "metadata": {},
   "outputs": [
    {
     "data": {
      "image/png": "[encoded data removed]",
      "text/plain": [
       "<Figure size 432x288 with 1 Axes>"
      ]
     },
     "metadata": {},
     "output_type": "display_data"
    }
   ],
   "source": [
    "df.groupby(['Sold']).customer_sold_day_of_week.value_counts().unstack(0).plot.barh();"
   ]
  },
  {
   "cell_type": "code",
   "execution_count": 40,
   "metadata": {},
   "outputs": [
    {
     "data": {
      "image/png": "[encoded data removed]",
      "text/plain": [
       "<IPython.core.display.Image object>"
      ]
     },
     "execution_count": 40,
     "metadata": {},
     "output_type": "execute_result"
    }
   ],
   "source": [
    "from IPython.display import Image\n",
    "#The graph below was made in excel\n",
    "Image(filename=\"Picture1.png\")"
   ]
  },
  {
   "cell_type": "markdown",
   "metadata": {},
   "source": [
    "Results:\n",
    "\n",
    " - You're more likely to sell policy on any day druing the week except on Mondays.\n",
    " - Also, you are more likely to get a sell if you  reach out any time after 5pm "
   ]
  },
  {
   "cell_type": "code",
   "execution_count": null,
   "metadata": {},
   "outputs": [],
   "source": []
  }
 ],
 "metadata": {
  "kernelspec": {
   "display_name": "Python 3",
   "language": "python",
   "name": "python3"
  },
  "language_info": {
   "codemirror_mode": {
    "name": "ipython",
    "version": 3
   },
   "file_extension": ".py",
   "mimetype": "text/x-python",
   "name": "python",
   "nbconvert_exporter": "python",
   "pygments_lexer": "ipython3",
   "version": "3.8.3"
  }
 },
 "nbformat": 4,
 "nbformat_minor": 4
}
